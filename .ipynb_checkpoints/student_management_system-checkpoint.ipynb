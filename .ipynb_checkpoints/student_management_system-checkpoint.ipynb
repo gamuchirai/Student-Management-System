{
 "cells": [
  {
   "cell_type": "markdown",
   "id": "53325857",
   "metadata": {},
   "source": [
    "# Student Management System - RITA Africa Python Fundamentals Capstone Project\n",
    "\n",
    "## Project Overview\n",
    "This is a comprehensive Student Management System built using Python fundamentals. The system provides secure authentication, student data management with full CRUD operations, activity logging, and report generation.\n",
    "\n",
    "### Key Features:\n",
    "- 🔐 Secure login with file-based authentication\n",
    "- 📚 Add, view, search, update, and delete student records\n",
    "- 📊 Generate basic reports on student data\n",
    "- 💾 Store data in text files for persistence\n",
    "- 📝 Log user activity for better tracking\n",
    "\n",
    "### Skills Demonstrated:\n",
    "- File handling for data storage and retrieval\n",
    "- Dictionaries, loops, and conditionals for program logic\n",
    "- Functions for modular code organization\n",
    "- Authentication and session logging for security\n",
    "- Menu-driven interfaces for user-friendly navigation"
   ]
  },
  {
   "cell_type": "markdown",
   "id": "1d4aa971",
   "metadata": {},
   "source": [
    "## Step 1: Import Required Libraries\n",
    "We start by importing the necessary Python standard library modules for our Student Management System."
   ]
  },
  {
   "cell_type": "code",
   "execution_count": 1,
   "id": "ae4789cf",
   "metadata": {},
   "outputs": [],
   "source": [
    "import os\n",
    "import datetime\n",
    "import getpass"
   ]
  },
  {
   "cell_type": "markdown",
   "id": "e0ed7e52",
   "metadata": {},
   "source": [
    "## Step 2: Define Global Constants\n",
    "Setting up file paths for our data storage files that will store user credentials, student records, and activity logs."
   ]
  },
  {
   "cell_type": "code",
   "execution_count": 2,
   "id": "82062f03",
   "metadata": {},
   "outputs": [],
   "source": [
    "USER_FILE = \"users.txt\"\n",
    "STUDENT_FILE = \"students.txt\"\n",
    "LOG_FILE = \"activity_log.txt\""
   ]
  },
  {
   "cell_type": "markdown",
   "id": "65ebe933",
   "metadata": {},
   "source": [
    "## Step 3: Activity Logging Function\n",
    "This function records all user activities with timestamps for security and audit purposes."
   ]
  },
  {
   "cell_type": "code",
   "execution_count": 3,
   "id": "0b281bb5",
   "metadata": {},
   "outputs": [],
   "source": [
    "def log_activity(username, action):\n",
    "    \"\"\"Log user actions with timestamp\"\"\"\n",
    "    with open(LOG_FILE, \"a\") as log:\n",
    "        log.write(f\"{datetime.datetime.now()} - {username} - {action}\\n\")"
   ]
  },
  {
   "cell_type": "markdown",
   "id": "bdf739ef",
   "metadata": {},
   "source": [
    "## Step 4: Authentication System Functions\n",
    "The authentication system secures access to the Student Management System. It loads user credentials from a file, allows new users to be saved, and checks login details against stored records."
   ]
  },
  {
   "cell_type": "markdown",
   "id": "3781b5a0",
   "metadata": {},
   "source": [
    "### Load Users Function\n",
    "Loads existing user credentials from the users.txt file into a dictionary for authentication."
   ]
  },
  {
   "cell_type": "code",
   "execution_count": 4,
   "id": "a30c5902",
   "metadata": {},
   "outputs": [],
   "source": [
    "def load_users():\n",
    "    \"\"\"Load users from file into a dictionary\"\"\"\n",
    "    users = {}\n",
    "    if os.path.exists(USER_FILE):\n",
    "        with open(USER_FILE, \"r\") as f:\n",
    "            for line in f:\n",
    "                if \",\" in line:\n",
    "                    uname, pwd = line.strip().split(\",\", 1)\n",
    "                    users[uname] = pwd\n",
    "    return users"
   ]
  },
  {
   "cell_type": "markdown",
   "id": "09496ab1",
   "metadata": {},
   "source": [
    "### Save User Function\n",
    "Saves new user credentials to the users.txt file for future authentication."
   ]
  },
  {
   "cell_type": "code",
   "execution_count": 5,
   "id": "cb8c8f32",
   "metadata": {},
   "outputs": [],
   "source": [
    "def save_user(username, password):\n",
    "    \"\"\"Save new user to the file\"\"\"\n",
    "    with open(USER_FILE, \"a\") as f:\n",
    "        f.write(f\"{username},{password}\\n\")"
   ]
  },
  {
   "cell_type": "markdown",
   "id": "64135a7d",
   "metadata": {},
   "source": [
    "### Authenticate User Function\n",
    "Handles user login by verifying credentials against stored records. Successful logins are logged."
   ]
  },
  {
   "cell_type": "code",
   "execution_count": 6,
   "id": "bc5305b4",
   "metadata": {},
   "outputs": [],
   "source": [
    "def authenticate():\n",
    "    \"\"\"Authenticate user login\"\"\"\n",
    "    users = load_users()\n",
    "    username = input(\"Enter Username: \")\n",
    "    password = getpass.getpass(\"Enter Password: \")\n",
    "\n",
    "    if username in users and users[username] == password:\n",
    "        log_activity(username, \"Logged in\")\n",
    "        print(\"\\n✅ Login Successful!\\n\")\n",
    "        return username\n",
    "    else:\n",
    "        print(\"\\n❌ Invalid credentials!\\n\")\n",
    "        return None"
   ]
  },
  {
   "cell_type": "markdown",
   "id": "44f159af",
   "metadata": {},
   "source": [
    "## Step 5: Student Data Management (CRUD Operations)\n",
    "The student data management functions handle records stored in a file. They allow users to add new students, view all records, search for specific students, update details, and delete entries."
   ]
  },
  {
   "cell_type": "markdown",
   "id": "31c0a12f",
   "metadata": {},
   "source": [
    "### Add Student Function\n",
    "Allows authorized users to add new student records to the system."
   ]
  },
  {
   "cell_type": "code",
   "execution_count": 7,
   "id": "13770d88",
   "metadata": {},
   "outputs": [],
   "source": [
    "def add_student(username):\n",
    "    \"\"\"Add a new student\"\"\"\n",
    "    roll = input(\"Enter Roll Number: \")\n",
    "    name = input(\"Enter Name: \")\n",
    "    grade = input(\"Enter Grade: \")\n",
    "\n",
    "    with open(STUDENT_FILE, \"a\") as f:\n",
    "        f.write(f\"{roll},{name},{grade}\\n\")\n",
    "\n",
    "    log_activity(username, f\"Added student {roll}\")\n",
    "    print(\"✅ Student added successfully!\")"
   ]
  },
  {
   "cell_type": "markdown",
   "id": "d53808a7",
   "metadata": {},
   "source": [
    "### View Students Function\n",
    "Displays all student records in a formatted manner."
   ]
  },
  {
   "cell_type": "code",
   "execution_count": 8,
   "id": "29f53398",
   "metadata": {},
   "outputs": [],
   "source": [
    "def view_students():\n",
    "    \"\"\"View all student records\"\"\"\n",
    "    if not os.path.exists(STUDENT_FILE):\n",
    "        print(\"No records found.\")\n",
    "        return\n",
    "\n",
    "    with open(STUDENT_FILE, \"r\") as f:\n",
    "        print(\"\\n--- Student Records ---\")\n",
    "        for line in f:\n",
    "            parts = line.strip().split(\",\")\n",
    "            if len(parts) != 3:\n",
    "                continue\n",
    "            roll, name, grade = parts\n",
    "            print(f\"Roll: {roll} | Name: {name} | Grade: {grade}\")"
   ]
  },
  {
   "cell_type": "markdown",
   "id": "0e5238b1",
   "metadata": {},
   "source": [
    "### Search Student Function\n",
    "Allows users to search for a specific student by roll number."
   ]
  },
  {
   "cell_type": "code",
   "execution_count": 9,
   "id": "49e2d08e",
   "metadata": {},
   "outputs": [],
   "source": [
    "def search_student():\n",
    "    \"\"\"Search for a student by roll number\"\"\"\n",
    "    roll_no = input(\"Enter Roll Number to search: \")\n",
    "    found = False\n",
    "\n",
    "    if os.path.exists(STUDENT_FILE):\n",
    "        with open(STUDENT_FILE, \"r\") as f:\n",
    "            for line in f:\n",
    "                # Skip empty or invalid lines\n",
    "                parts = line.strip().split(\",\")\n",
    "                if len(parts) != 3:\n",
    "                    continue\n",
    "                roll, name, grade = parts\n",
    "                if roll == roll_no:\n",
    "                    print(f\"✅ Found: Roll: {roll} | Name: {name} | Grade: {grade}\")\n",
    "                    found = True\n",
    "                    break\n",
    "\n",
    "    if not found:\n",
    "        print(\"❌ Student not found.\")"
   ]
  },
  {
   "cell_type": "markdown",
   "id": "f5f5ae03",
   "metadata": {},
   "source": [
    "### Update Student Function\n",
    "Allows authorized users to update existing student records."
   ]
  },
  {
   "cell_type": "code",
   "execution_count": 10,
   "id": "8bf2c605",
   "metadata": {},
   "outputs": [],
   "source": [
    "def update_student(username):\n",
    "    \"\"\"Update student details\"\"\"\n",
    "    roll_no = input(\"Enter Roll Number to update: \")\n",
    "    students = []\n",
    "    updated = False\n",
    "\n",
    "    if os.path.exists(STUDENT_FILE):\n",
    "        with open(STUDENT_FILE, \"r\") as f:\n",
    "            students = f.readlines()\n",
    "\n",
    "        with open(STUDENT_FILE, \"w\") as f:\n",
    "            for line in students:\n",
    "                parts = line.strip().split(\",\")\n",
    "                if len(parts) != 3:\n",
    "                    f.write(line)\n",
    "                    continue\n",
    "                roll, name, grade = parts\n",
    "                if roll == roll_no:\n",
    "                    print(f\"Current Data → Name: {name}, Grade: {grade}\")\n",
    "                    new_name = input(\"Enter new Name: \")\n",
    "                    new_grade = input(\"Enter new Grade: \")\n",
    "                    f.write(f\"{roll},{new_name},{new_grade}\\n\")\n",
    "                    updated = True\n",
    "                    log_activity(username, f\"Updated student {roll}\")\n",
    "                else:\n",
    "                    f.write(line)\n",
    "\n",
    "    if updated:\n",
    "        print(\"✅ Student record updated.\")\n",
    "    else:\n",
    "        print(\"❌ Student not found.\")"
   ]
  },
  {
   "cell_type": "markdown",
   "id": "93eab55c",
   "metadata": {},
   "source": [
    "### Delete Student Function\n",
    "Allows authorized users to delete student records from the system."
   ]
  },
  {
   "cell_type": "code",
   "execution_count": 11,
   "id": "8f34abc0",
   "metadata": {},
   "outputs": [],
   "source": [
    "def delete_student(username):\n",
    "    \"\"\"Delete a student record\"\"\"\n",
    "    roll_no = input(\"Enter Roll Number to delete: \")\n",
    "    students = []\n",
    "    deleted = False\n",
    "\n",
    "    if os.path.exists(STUDENT_FILE):\n",
    "        with open(STUDENT_FILE, \"r\") as f:\n",
    "            students = f.readlines()\n",
    "\n",
    "        with open(STUDENT_FILE, \"w\") as f:\n",
    "            for line in students:\n",
    "                # Skip empty or invalid lines\n",
    "                parts = line.strip().split(\",\")\n",
    "                if len(parts) != 3:\n",
    "                    f.write(line)  # keep invalid lines unchanged\n",
    "                    continue\n",
    "\n",
    "                roll, name, grade = parts\n",
    "                if roll == roll_no:\n",
    "                    deleted = True\n",
    "                    # Log deletion\n",
    "                    log_activity(username, f\"Deleted student {roll}\")\n",
    "                else:\n",
    "                    f.write(line)\n",
    "\n",
    "    if deleted:\n",
    "        print(\"✅ Student record deleted.\")\n",
    "    else:\n",
    "        print(\"❌ Student not found.\")"
   ]
  },
  {
   "cell_type": "markdown",
   "id": "aec57618",
   "metadata": {},
   "source": [
    "## Step 6: Report Generation\n",
    "This function generates comprehensive reports showing total student count and grade distribution."
   ]
  },
  {
   "cell_type": "code",
   "execution_count": 12,
   "id": "5e977d8f",
   "metadata": {},
   "outputs": [],
   "source": [
    "def generate_report():\n",
    "    \"\"\"Generate a report of student statistics\"\"\"\n",
    "    if not os.path.exists(STUDENT_FILE):\n",
    "        print(\"No records available.\")\n",
    "        return\n",
    "\n",
    "    total = 0\n",
    "    grades = {}\n",
    "    with open(STUDENT_FILE, \"r\") as f:\n",
    "        for line in f:\n",
    "            parts = line.strip().split(\",\")\n",
    "            if len(parts) != 3:\n",
    "                continue\n",
    "            roll, name, grade = parts\n",
    "            total += 1\n",
    "            grades[grade] = grades.get(grade, 0) + 1\n",
    "\n",
    "    print(\"\\n📊 Student Report\")\n",
    "    print(f\"Total Students: {total}\")\n",
    "    for g, count in grades.items():\n",
    "        print(f\"Grade {g}: {count} student(s)\")"
   ]
  },
  {
   "cell_type": "markdown",
   "id": "dd0a8275",
   "metadata": {},
   "source": [
    "## Step 7: Main Program\n",
    "The main function coordinates the entire Student Management System with a user-friendly menu interface."
   ]
  },
  {
   "cell_type": "code",
   "execution_count": 13,
   "id": "fea12f13",
   "metadata": {},
   "outputs": [],
   "source": [
    "def main():\n",
    "    \"\"\"Main function to run the student management system\"\"\"\n",
    "    print(\"===== Student Management System =====\")\n",
    "\n",
    "    # Ensure admin user exists\n",
    "    if not os.path.exists(USER_FILE):\n",
    "        print(\"No users found. Create an Admin account.\")\n",
    "        uname = input(\"Set Admin Username: \")\n",
    "        pwd = getpass.getpass(\"Set Admin Password: \")\n",
    "        save_user(uname, pwd)\n",
    "        print(\"✅ Admin created! Please restart the program.\")\n",
    "        return\n",
    "\n",
    "    username = None\n",
    "    while not username:\n",
    "        username = authenticate()\n",
    "\n",
    "    # Menu\n",
    "    while True:\n",
    "        print(\"\\n--- Main Menu ---\")\n",
    "        print(\"1. Add Student\")\n",
    "        print(\"2. View All Students\")\n",
    "        print(\"3. Search Student\")\n",
    "        print(\"4. Update Student\")\n",
    "        print(\"5. Delete Student\")\n",
    "        print(\"6. Generate Report\")\n",
    "        print(\"7. Logout & Exit\")\n",
    "\n",
    "        choice = input(\"Enter choice: \")\n",
    "\n",
    "        if choice == \"1\":\n",
    "            add_student(username)\n",
    "        elif choice == \"2\":\n",
    "            view_students()\n",
    "        elif choice == \"3\":\n",
    "            search_student()\n",
    "        elif choice == \"4\":\n",
    "            update_student(username)\n",
    "        elif choice == \"5\":\n",
    "            delete_student(username)\n",
    "        elif choice == \"6\":\n",
    "            generate_report()\n",
    "        elif choice == \"7\":\n",
    "            log_activity(username, \"Logged out\")\n",
    "            print(\"👋 Goodbye!\")\n",
    "            break\n",
    "        else:\n",
    "            print(\"❌ Invalid choice! Please try again.\")"
   ]
  },
  {
   "cell_type": "markdown",
   "id": "8c64220f",
   "metadata": {},
   "source": [
    "## Step 8: Run the Student Management System\n",
    "Execute the main program to start the Student Management System. This will initialize the system and provide the interactive menu."
   ]
  },
  {
   "cell_type": "code",
   "execution_count": null,
   "id": "02eebe0e",
   "metadata": {},
   "outputs": [
    {
     "name": "stdout",
     "output_type": "stream",
     "text": [
      "===== Student Management System =====\n"
     ]
    },
    {
     "name": "stdin",
     "output_type": "stream",
     "text": [
      "Enter Username:  gamuchirai\n",
      "Enter Password:  ········\n"
     ]
    },
    {
     "name": "stdout",
     "output_type": "stream",
     "text": [
      "\n",
      "❌ Invalid credentials!\n",
      "\n"
     ]
    }
   ],
   "source": [
    "if __name__ == \"__main__\":\n",
    "    main()"
   ]
  },
  {
   "cell_type": "markdown",
   "id": "44140a05",
   "metadata": {},
   "source": [
    "## Project Documentation and Testing\n",
    "\n",
    "### Features Implemented:\n",
    "✅ **Authentication System**\n",
    "- Secure login with file-based user storage\n",
    "- Password protection using getpass module\n",
    "- Activity logging for security auditing\n",
    "\n",
    "✅ **Student Data Management (CRUD)**\n",
    "- **Create**: Add new student records\n",
    "- **Read**: View all students and search by roll number\n",
    "- **Update**: Modify existing student information\n",
    "- **Delete**: Remove student records\n",
    "\n",
    "✅ **Report Generation**\n",
    "- Total student count\n",
    "- Grade distribution analysis\n",
    "\n",
    "✅ **Data Persistence**\n",
    "- File-based storage for users, students, and activity logs\n",
    "- Automatic file creation when needed\n",
    "\n",
    "### File Structure:\n",
    "- `users.txt`: Stores username and password combinations\n",
    "- `students.txt`: Stores student records (roll number, name, grade)\n",
    "- `activity_log.txt`: Logs all user activities with timestamps\n",
    "\n",
    "### Testing Notes:\n",
    "To test the system:\n",
    "1. Run the main() function\n",
    "2. Create an admin account on first run\n",
    "3. Test all menu options:\n",
    "   - Add sample students\n",
    "   - View student records\n",
    "   - Search for specific students\n",
    "   - Update student information\n",
    "   - Delete student records\n",
    "   - Generate reports\n",
    "\n",
    "This Student Management System demonstrates proficiency in Python fundamentals including file handling, data structures, control flow, and modular programming."
   ]
  }
 ],
 "metadata": {
  "kernelspec": {
   "display_name": "Python 3 (ipykernel)",
   "language": "python",
   "name": "python3"
  },
  "language_info": {
   "codemirror_mode": {
    "name": "ipython",
    "version": 3
   },
   "file_extension": ".py",
   "mimetype": "text/x-python",
   "name": "python",
   "nbconvert_exporter": "python",
   "pygments_lexer": "ipython3",
   "version": "3.13.5"
  }
 },
 "nbformat": 4,
 "nbformat_minor": 5
}
